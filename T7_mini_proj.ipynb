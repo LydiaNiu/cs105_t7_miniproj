{
 "cells": [
  {
   "cell_type": "markdown",
   "id": "dbc4625b",
   "metadata": {},
   "source": [
    "# CS 105 Team 7 Mini Project Report\n",
    "\n",
    "[]\n",
    "\n",
    "[]\n",
    "\n",
    "1. What data do you have? (Your answer)\n",
    "2. What would you like to know? (Your answer)\n",
    "3. Explore, present and analyze the data. (Generate statistics, perform visualizations)\n",
    "4. Can you state any hypotheses or make predictions? Which tests can you apply to\n",
    "5. Verify your hypothesis? (Your answer).\n",
    "6. Test your hypotheses. Draw the conclusions.\n",
    "7. Draw the overall conclusion\n",
    "\n"
   ]
  },
  {
   "cell_type": "code",
   "execution_count": null,
   "id": "d8c30d9f",
   "metadata": {},
   "outputs": [],
   "source": [
    "#test 1, lets cook"
   ]
  },
  {
   "cell_type": "code",
   "execution_count": null,
   "id": "ed5f16fd",
   "metadata": {},
   "outputs": [],
   "source": [
    "#Lydia's Chunk: Heatmap Visualization\n",
    "# Comparing the on campus choice of food vs scale of imposter syndrome (1-5)\n",
    "# On campus food choice: EV - FE\n",
    "# Imposter syndrome: DM"
   ]
  }
 ],
 "metadata": {
  "kernelspec": {
   "display_name": "Python (conda base)",
   "language": "python",
   "name": "conda-base"
  },
  "language_info": {
   "name": "python",
   "version": "3.12.7"
  }
 },
 "nbformat": 4,
 "nbformat_minor": 5
}
