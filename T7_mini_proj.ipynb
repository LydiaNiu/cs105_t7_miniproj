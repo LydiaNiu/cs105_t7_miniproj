{
 "cells": [
  {
   "cell_type": "code",
   "execution_count": null,
   "id": "d8c30d9f",
   "metadata": {},
   "outputs": [],
   "source": [
    "#test 1, lets cook"
   ]
  }
 ],
 "metadata": {
  "kernelspec": {
   "display_name": "Python (conda base)",
   "language": "python",
   "name": "conda-base"
  },
  "language_info": {
   "name": "python",
   "version": "3.12.7"
  }
 },
 "nbformat": 4,
 "nbformat_minor": 5
}
